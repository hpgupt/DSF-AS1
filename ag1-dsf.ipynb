{
 "cells": [
  {
   "cell_type": "markdown",
   "metadata": {},
   "source": [
    "DSF - Assignment 1\n",
    "Harsh Prakash Gupta"
   ]
  },
  {
   "cell_type": "markdown",
   "metadata": {},
   "source": [
    "Task1"
   ]
  },
  {
   "cell_type": "code",
   "execution_count": 1,
   "metadata": {},
   "outputs": [
    {
     "name": "stdout",
     "output_type": "stream",
     "text": [
      "     student_id prompt_id                                               text  \\\n",
      "0  000e8c3c7ddb    814d6b  The third wave was an experimentto see how peo...   \n",
      "1  0020ae56ffbf    ebad26  They would rub it up with soda to make the sme...   \n",
      "2  004e978e639e    3b9047  In Egypt, there were many occupations and soci...   \n",
      "3  005ab0199905    3b9047  The highest class was Pharaohs these people we...   \n",
      "4  0070c9e7af47    814d6b  The Third Wave developed  rapidly because the ...   \n",
      "\n",
      "    content   wording                                    prompt_question  \\\n",
      "0  0.205683  0.380538  Summarize how the Third Wave developed over su...   \n",
      "1 -0.548304  0.506755  Summarize the various ways the factory would u...   \n",
      "2  3.128928  4.231226  In complete sentences, summarize the structure...   \n",
      "3 -0.210614 -0.471415  In complete sentences, summarize the structure...   \n",
      "4  3.272894  3.219757  Summarize how the Third Wave developed over su...   \n",
      "\n",
      "                prompt_title  \\\n",
      "0             The Third Wave   \n",
      "1    Excerpt from The Jungle   \n",
      "2  Egyptian Social Structure   \n",
      "3  Egyptian Social Structure   \n",
      "4             The Third Wave   \n",
      "\n",
      "                                         prompt_text  \n",
      "0  Background \\r\\nThe Third Wave experiment took ...  \n",
      "1  With one member trimming beef in a cannery, an...  \n",
      "2  Egyptian society was structured like a pyramid...  \n",
      "3  Egyptian society was structured like a pyramid...  \n",
      "4  Background \\r\\nThe Third Wave experiment took ...  \n"
     ]
    }
   ],
   "source": [
    "import pandas as pd\n",
    "summaries_train_df = pd.read_csv('data/summaries_train.csv')\n",
    "prompts_train_df = pd.read_csv('data/prompts_train.csv')\n",
    "merged_df = pd.merge(summaries_train_df, prompts_train_df, on='prompt_id', how='left')\n",
    "print(merged_df.head())\n"
   ]
  },
  {
   "cell_type": "code",
   "execution_count": 2,
   "metadata": {},
   "outputs": [
    {
     "name": "stdout",
     "output_type": "stream",
     "text": [
      "     student_id prompt_id                                               text  \\\n",
      "0  000e8c3c7ddb    814d6b  The third wave was an experimentto see how peo...   \n",
      "1  0020ae56ffbf    ebad26  They would rub it up with soda to make the sme...   \n",
      "2  004e978e639e    3b9047  In Egypt, there were many occupations and soci...   \n",
      "3  005ab0199905    3b9047  The highest class was Pharaohs these people we...   \n",
      "4  0070c9e7af47    814d6b  The Third Wave developed  rapidly because the ...   \n",
      "\n",
      "    content   wording                                    prompt_question  \\\n",
      "0  0.205683  0.380538  Summarize how the Third Wave developed over su...   \n",
      "1 -0.548304  0.506755  Summarize the various ways the factory would u...   \n",
      "2  3.128928  4.231226  In complete sentences, summarize the structure...   \n",
      "3 -0.210614 -0.471415  In complete sentences, summarize the structure...   \n",
      "4  3.272894  3.219757  Summarize how the Third Wave developed over su...   \n",
      "\n",
      "                prompt_title  \\\n",
      "0             The Third Wave   \n",
      "1    Excerpt from The Jungle   \n",
      "2  Egyptian Social Structure   \n",
      "3  Egyptian Social Structure   \n",
      "4             The Third Wave   \n",
      "\n",
      "                                         prompt_text  num_words_response  \\\n",
      "0  Background \\r\\nThe Third Wave experiment took ...                  61   \n",
      "1  With one member trimming beef in a cannery, an...                  52   \n",
      "2  Egyptian society was structured like a pyramid...                 235   \n",
      "3  Egyptian society was structured like a pyramid...                  25   \n",
      "4  Background \\r\\nThe Third Wave experiment took ...                 203   \n",
      "\n",
      "   num_words_prompt  num_distinct_words_response  num_distinct_words_prompt  \\\n",
      "0               596                           51                        300   \n",
      "1               966                           38                        422   \n",
      "2               550                          149                        319   \n",
      "3               550                           19                        319   \n",
      "4               596                          138                        300   \n",
      "\n",
      "   num_common_words_response_prompt  \\\n",
      "0                                21   \n",
      "1                                31   \n",
      "2                                65   \n",
      "3                                13   \n",
      "4                                46   \n",
      "\n",
      "   num_common_words_response_prompt_question  \\\n",
      "0                                          5   \n",
      "1                                          4   \n",
      "2                                          9   \n",
      "3                                          2   \n",
      "4                                          9   \n",
      "\n",
      "   num_common_words_response_prompt_title  \n",
      "0                                       1  \n",
      "1                                       0  \n",
      "2                                       0  \n",
      "3                                       0  \n",
      "4                                       3  \n"
     ]
    }
   ],
   "source": [
    "import pandas as pd\n",
    "\n",
    "def count_words(text):\n",
    "    return len(str(text).split())\n",
    "\n",
    "\n",
    "def count_distinct_words(text):\n",
    "    return len(set(str(text).split()))\n",
    "\n",
    "\n",
    "def count_common_words(text1, text2):\n",
    "    return len(set(str(text1).split()) & set(str(text2).split()))\n",
    "\n",
    "merged_df['num_words_response'] = merged_df['text'].apply(count_words)\n",
    "merged_df['num_words_prompt'] = merged_df['prompt_text'].apply(count_words)\n",
    "merged_df['num_distinct_words_response'] = merged_df['text'].apply(count_distinct_words)\n",
    "merged_df['num_distinct_words_prompt'] = merged_df['prompt_text'].apply(count_distinct_words)\n",
    "merged_df['num_common_words_response_prompt'] = merged_df.apply(lambda row: count_common_words(row['text'], row['prompt_text']), axis=1)\n",
    "merged_df['num_common_words_response_prompt_question'] = merged_df.apply(lambda row: count_common_words(row['text'], row['prompt_question']), axis=1)\n",
    "merged_df['num_common_words_response_prompt_title'] = merged_df.apply(lambda row: count_common_words(row['text'], row['prompt_title']), axis=1)\n",
    "\n",
    "print(merged_df.head())\n"
   ]
  }
 ],
 "metadata": {
  "kernelspec": {
   "display_name": ".venv",
   "language": "python",
   "name": "python3"
  },
  "language_info": {
   "codemirror_mode": {
    "name": "ipython",
    "version": 3
   },
   "file_extension": ".py",
   "mimetype": "text/x-python",
   "name": "python",
   "nbconvert_exporter": "python",
   "pygments_lexer": "ipython3",
   "version": "3.11.5"
  },
  "orig_nbformat": 4
 },
 "nbformat": 4,
 "nbformat_minor": 2
}
